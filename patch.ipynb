{
  "nbformat": 4,
  "nbformat_minor": 0,
  "metadata": {
    "colab": {
      "provenance": []
    },
    "kernelspec": {
      "name": "python3",
      "display_name": "Python 3"
    },
    "language_info": {
      "name": "python"
    }
  },
  "cells": [
    {
      "cell_type": "code",
      "execution_count": null,
      "metadata": {
        "colab": {
          "base_uri": "https://localhost:8080/"
        },
        "id": "3gBvEzXHuCdl",
        "outputId": "57b6f832-1cf8-46b6-9727-bb2d5489cd30"
      },
      "outputs": [
        {
          "output_type": "stream",
          "name": "stdout",
          "text": [
            "Looking in indexes: https://pypi.org/simple, https://us-python.pkg.dev/colab-wheels/public/simple/\n",
            "Collecting patchify\n",
            "  Downloading patchify-0.2.3-py3-none-any.whl (6.6 kB)\n",
            "Requirement already satisfied: numpy<2,>=1 in /usr/local/lib/python3.9/dist-packages (from patchify) (1.22.4)\n",
            "Installing collected packages: patchify\n",
            "Successfully installed patchify-0.2.3\n",
            "Looking in indexes: https://pypi.org/simple, https://us-python.pkg.dev/colab-wheels/public/simple/\n",
            "Requirement already satisfied: Pillow in /usr/local/lib/python3.9/dist-packages (8.4.0)\n"
          ]
        }
      ],
      "source": [
        "! pip install patchify\n",
        "! pip install Pillow"
      ]
    },
    {
      "cell_type": "code",
      "source": [
        "## connecting to the google drive\n",
        "\n",
        "from google.colab import drive\n",
        "drive.mount('/content/drive')"
      ],
      "metadata": {
        "colab": {
          "base_uri": "https://localhost:8080/"
        },
        "id": "AoBnp1O8vqbU",
        "outputId": "79824cda-bcc2-48cd-9800-f0391bd41a6a"
      },
      "execution_count": null,
      "outputs": [
        {
          "output_type": "stream",
          "name": "stdout",
          "text": [
            "Mounted at /content/drive\n"
          ]
        }
      ]
    },
    {
      "cell_type": "code",
      "source": [
        "import numpy as np\n",
        "from patchify import patchify, unpatchify\n",
        "from PIL import Image\n",
        "import shutil\n",
        "import os"
      ],
      "metadata": {
        "id": "CcE3vv_XwBAs"
      },
      "execution_count": null,
      "outputs": []
    },
    {
      "cell_type": "code",
      "source": [
        "\n",
        "\n",
        "\n",
        "def prepare_patches(image_path,mask_path, out_dir):\n",
        "    image = Image.open(image_path)  # for example (3456, 5184, 3)\n",
        "    image = np.asarray(image)\n",
        "    #print(np.amax(image))\n",
        "    #print(np.amin(image))\n",
        "    \n",
        "\n",
        " \n",
        "    mask_image = Image.open(mask_path)  # for example (3456, 5184, 3)\n",
        "    mask_image = np.asarray(mask_image)\n",
        "\n",
        "    patches = patchify(image, (512, 512, 3), step=512)\n",
        "    print(patches.shape)  # (6, 10, 1, 512, 512, 3)\n",
        "\n",
        "    mask_patches = patchify(mask_image, (512, 512, 3), step=512)\n",
        "    print(mask_patches.shape)  # (6, 10, 1, 512, 512, 3)\n",
        "\n",
        "    for i in range(patches.shape[0]):\n",
        "        for j in range(patches.shape[1]):\n",
        "            patch = patches[i, j, 0]\n",
        "            mask_patch = mask_patches[i, j, 0]\n",
        "\n",
        "            patch = Image.fromarray(patch)\n",
        "            mask_patch = Image.fromarray(mask_patch)\n",
        "\n",
        "\n",
        "            num = i * patches.shape[1] + j\n",
        "            #patch.save(os.path.join(\"/content/drive/MyDrive/patches\",\"patch_\"+str(num)+\".png\"))\n",
        "            #mask_patch.save(os.path.join(\"/content/drive/MyDrive/patches\",\"mask_patch_\"+str(num)+\".png\"))\n",
        "\n",
        "            if np.max(mask_patch) != 0:\n",
        "\n",
        "              patch.save(os.path.join(out_dir,\"images\",\"patch_\"+str(num)+\".png\"))\n",
        "              mask_patch.save(os.path.join(out_dir,\"masks\",\"mask_patch_\"+str(num)+\".png\")) \n"
      ],
      "metadata": {
        "id": "z5lmFsmtxN-q"
      },
      "execution_count": null,
      "outputs": []
    },
    {
      "cell_type": "code",
      "source": [
        "from PIL import Image \n",
        "Image.MAX_IMAGE_PIXELS = 1000000000 \n",
        "\n",
        "\n",
        "image_lst=os.listdir(\"/content/drive/MyDrive/Segmentation-H/Train_Image\")\n",
        "mask_lst=os.listdir(\"/content/drive/MyDrive/Segmentation-H/Train_Mask\")\n"
      ],
      "metadata": {
        "id": "3uKRo4TkouBN"
      },
      "execution_count": null,
      "outputs": []
    },
    {
      "cell_type": "code",
      "source": [
        "out_dir=\"/content/drive/MyDrive/patchedData\"\n",
        "for msk_img in mask_lst:\n",
        "      mask_path=os.path.join(\"/content/drive/MyDrive/Segmentation-H/Train_Mask\",msk_img )\n",
        "      image_path=os.path.join(\"/content/drive/MyDrive/Segmentation-H/Train_Image\", msk_img.replace(\"_mask\", \"\"))\n",
        "      prepare_patches(image_path,mask_path, out_dir)\n"
      ],
      "metadata": {
        "colab": {
          "base_uri": "https://localhost:8080/"
        },
        "id": "g3YCXYWAqzXL",
        "outputId": "45224270-8743-46de-c772-bb888ddda696"
      },
      "execution_count": null,
      "outputs": [
        {
          "output_type": "stream",
          "name": "stdout",
          "text": [
            "(39, 11, 1, 512, 512, 3)\n",
            "(39, 11, 1, 512, 512, 3)\n",
            "(25, 7, 1, 512, 512, 3)\n",
            "(25, 7, 1, 512, 512, 3)\n",
            "(56, 16, 1, 512, 512, 3)\n",
            "(56, 16, 1, 512, 512, 3)\n",
            "(9, 59, 1, 512, 512, 3)\n",
            "(9, 59, 1, 512, 512, 3)\n",
            "(75, 24, 1, 512, 512, 3)\n",
            "(75, 24, 1, 512, 512, 3)\n",
            "(12, 61, 1, 512, 512, 3)\n",
            "(12, 61, 1, 512, 512, 3)\n",
            "(33, 17, 1, 512, 512, 3)\n",
            "(33, 17, 1, 512, 512, 3)\n",
            "(9, 40, 1, 512, 512, 3)\n",
            "(9, 40, 1, 512, 512, 3)\n"
          ]
        }
      ]
    },
    {
      "cell_type": "code",
      "source": [
        "assert len(os.listdir(os.path.join(out_dir,\"masks\")))==len(os.listdir(os.path.join(out_dir,\"images\")))"
      ],
      "metadata": {
        "id": "nCw_xJ13q2T_"
      },
      "execution_count": null,
      "outputs": []
    },
    {
      "cell_type": "code",
      "source": [
        "images=os.listdir(\"/content/drive/MyDrive/biopsedata/masks\")"
      ],
      "metadata": {
        "id": "eVrxIeOqe4Y1"
      },
      "execution_count": null,
      "outputs": []
    },
    {
      "cell_type": "code",
      "source": [
        "#for img in images:\n",
        "#  if \"mask\" in img:\n",
        "#     name=os.path.splitext(img)[0]\n",
        "#     image = Image.open(os.path.join(\"/content/drive/MyDrive/biopsedata/masks\",img))  # for example (3456, 5184, 3)\n",
        "#     image = np.asarray(image)\n",
        "#     if np.max(image) == 0:\n",
        "#         #shutil.copy(os.path.join(\"/content/drive/MyDrive/patches\",img), \"/content/drive/MyDrive/processed\")\n",
        "#         #shutil.copy(os.path.join(\"/content/drive/MyDrive/patches\",img.replace(\"mask_\", \"\")), \"/content/drive/MyDrive/processed\")\n",
        "#         print(img)\n",
        "#         os.remove(os.path.join(\"/content/drive/MyDrive/biopsedata/masks\",img))\n",
        "#         os.remove(os.path.join(\"/content/drive/MyDrive/biopsedata/images\",img.replace(\"mask_\", \"\")))\n",
        "#"
      ],
      "metadata": {
        "id": "r64KovJsfBAi"
      },
      "execution_count": null,
      "outputs": []
    },
    {
      "cell_type": "code",
      "source": [
        "np.max(image)\n"
      ],
      "metadata": {
        "colab": {
          "base_uri": "https://localhost:8080/"
        },
        "id": "QFYP7oIxxUoz",
        "outputId": "354f24ef-d995-4511-d955-5553fbaa553a"
      },
      "execution_count": null,
      "outputs": [
        {
          "output_type": "execute_result",
          "data": {
            "text/plain": [
              "255"
            ]
          },
          "metadata": {},
          "execution_count": 9
        }
      ]
    },
    {
      "cell_type": "code",
      "source": [],
      "metadata": {
        "id": "Yqw2XsoPxViN"
      },
      "execution_count": null,
      "outputs": []
    }
  ]
}