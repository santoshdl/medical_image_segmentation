{
  "cells": [
    {
      "cell_type": "code",
      "execution_count": 1,
      "metadata": {
        "id": "eXgXn6wIv02W"
      },
      "outputs": [],
      "source": [
        "import os\n",
        "import glob\n",
        "import random\n",
        "import cv2\n",
        "from PIL import Image\n",
        "import numpy as np\n",
        "import pandas as pd\n",
        "import matplotlib.pyplot as plt\n",
        "%matplotlib inline\n",
        "\n",
        "import torch\n",
        "import torchvision\n",
        "import torch.nn as nn\n",
        "import torch.nn.functional as F\n",
        "import torch.utils.data as data\n",
        "from torch.utils.data import DataLoader\n",
        "from mpl_toolkits.axes_grid1 import ImageGrid\n",
        "from torchvision.utils import make_grid\n",
        "import torchvision.transforms as tt\n",
        "import albumentations as A\n",
        "from sklearn.model_selection import train_test_split\n",
        "from tqdm import tqdm\n",
        "from PIL import Image\n",
        "from albumentations.pytorch import ToTensorV2"
      ]
    },
    {
      "cell_type": "code",
      "source": [
        "torch.cuda.is_available()"
      ],
      "metadata": {
        "colab": {
          "base_uri": "https://localhost:8080/"
        },
        "id": "zktbLjWjiu_A",
        "outputId": "f762c8d3-f054-4b21-bb8b-1d704717d681"
      },
      "execution_count": null,
      "outputs": [
        {
          "output_type": "execute_result",
          "data": {
            "text/plain": [
              "True"
            ]
          },
          "metadata": {},
          "execution_count": 2
        }
      ]
    },
    {
      "cell_type": "code",
      "execution_count": 2,
      "metadata": {
        "colab": {
          "base_uri": "https://localhost:8080/"
        },
        "id": "sTJLYGMTzTsn",
        "outputId": "e2d59885-c988-4ccd-f0b5-9de84aad83c4"
      },
      "outputs": [
        {
          "output_type": "stream",
          "name": "stdout",
          "text": [
            "Looking in indexes: https://pypi.org/simple, https://us-python.pkg.dev/colab-wheels/public/simple/\n",
            "Collecting patchify\n",
            "  Downloading patchify-0.2.3-py3-none-any.whl (6.6 kB)\n",
            "Requirement already satisfied: numpy<2,>=1 in /usr/local/lib/python3.9/dist-packages (from patchify) (1.22.4)\n",
            "Installing collected packages: patchify\n",
            "Successfully installed patchify-0.2.3\n",
            "Looking in indexes: https://pypi.org/simple, https://us-python.pkg.dev/colab-wheels/public/simple/\n",
            "Requirement already satisfied: Pillow in /usr/local/lib/python3.9/dist-packages (8.4.0)\n"
          ]
        }
      ],
      "source": [
        "! pip install patchify\n",
        "! pip install Pillow"
      ]
    },
    {
      "cell_type": "code",
      "execution_count": 3,
      "metadata": {
        "id": "zYNLKhsgzXyb"
      },
      "outputs": [],
      "source": [
        "from patchify import patchify, unpatchify\n"
      ]
    },
    {
      "cell_type": "code",
      "execution_count": 4,
      "metadata": {
        "id": "sCQ-r50hzAce"
      },
      "outputs": [],
      "source": [
        "Image.MAX_IMAGE_PIXELS = 1000000000 \n"
      ]
    },
    {
      "cell_type": "code",
      "execution_count": 5,
      "metadata": {
        "colab": {
          "base_uri": "https://localhost:8080/"
        },
        "id": "94x79_lvwAYh",
        "outputId": "6f7498ac-ff55-4ba0-817d-6983f2e44856"
      },
      "outputs": [
        {
          "output_type": "stream",
          "name": "stdout",
          "text": [
            "Mounted at /content/drive\n"
          ]
        }
      ],
      "source": [
        "from google.colab import drive\n",
        "drive.mount('/content/drive')"
      ]
    },
    {
      "cell_type": "code",
      "execution_count": 6,
      "metadata": {
        "id": "1l9ELCajwC3L"
      },
      "outputs": [],
      "source": [
        "COLORMAP = [\n",
        "        [0, 0, 0],\n",
        "        [255, 255, 0],\n",
        "        [150, 150, 150],\n",
        "        [0, 255, 0],\n",
        "        [0, 0, 255],\n",
        "        [0, 150, 255] \n",
        "    ]\n",
        "\n",
        "CLASSES = [\n",
        "        'background',\n",
        "        'yellow',\n",
        "        'grey',\n",
        "        'green',\n",
        "        'blue',\n",
        "        'red'\n",
        "    ]\n"
      ]
    },
    {
      "cell_type": "code",
      "execution_count": 7,
      "metadata": {
        "id": "tV2wBjCjwF_h"
      },
      "outputs": [],
      "source": [
        "t1 = A.Compose([\n",
        "    #A.Resize(160,240),\n",
        "    #A.augmentations.transforms.Normalize(mean=(0.5, 0.5, 0.5), std=(0.5, 0.5, 0.5)),\n",
        "    ToTensorV2()\n",
        "])"
      ]
    },
    {
      "cell_type": "code",
      "execution_count": 8,
      "metadata": {
        "id": "8oAJPwgywJnk"
      },
      "outputs": [],
      "source": [
        "class encoding_block(nn.Module):\n",
        "    def __init__(self,in_channels, out_channels):\n",
        "        super(encoding_block,self).__init__()\n",
        "        model = []\n",
        "        model.append(nn.Conv2d(in_channels, out_channels, 3, 1, 1, bias=False))\n",
        "        model.append(nn.BatchNorm2d(out_channels))\n",
        "        model.append(nn.ReLU(inplace=True))\n",
        "        model.append(nn.Conv2d(out_channels, out_channels, 3, 1, 1, bias=False))\n",
        "        model.append(nn.BatchNorm2d(out_channels))\n",
        "        model.append(nn.ReLU(inplace=True))\n",
        "        self.conv = nn.Sequential(*model)\n",
        "    def forward(self, x):\n",
        "        return self.conv(x) "
      ]
    },
    {
      "cell_type": "code",
      "execution_count": 9,
      "metadata": {
        "id": "vliJG3bEwMOU"
      },
      "outputs": [],
      "source": [
        "class unet_model(nn.Module):\n",
        "    def __init__(self,out_channels=6,features=[64, 128, 256, 512]):\n",
        "        super(unet_model,self).__init__()\n",
        "        self.pool = nn.MaxPool2d(kernel_size=(2,2),stride=(2,2))\n",
        "        self.conv1 = encoding_block(3,features[0])\n",
        "        self.conv2 = encoding_block(features[0],features[1])\n",
        "        self.conv3 = encoding_block(features[1],features[2])\n",
        "        self.conv4 = encoding_block(features[2],features[3])\n",
        "        self.conv5 = encoding_block(features[3]*2,features[3])\n",
        "        self.conv6 = encoding_block(features[3],features[2])\n",
        "        self.conv7 = encoding_block(features[2],features[1])\n",
        "        self.conv8 = encoding_block(features[1],features[0])        \n",
        "        self.tconv1 = nn.ConvTranspose2d(features[-1]*2, features[-1], kernel_size=2, stride=2)\n",
        "        self.tconv2 = nn.ConvTranspose2d(features[-1], features[-2], kernel_size=2, stride=2)\n",
        "        self.tconv3 = nn.ConvTranspose2d(features[-2], features[-3], kernel_size=2, stride=2)\n",
        "        self.tconv4 = nn.ConvTranspose2d(features[-3], features[-4], kernel_size=2, stride=2)        \n",
        "        self.bottleneck = encoding_block(features[3],features[3]*2)\n",
        "        self.final_layer = nn.Conv2d(features[0],out_channels,kernel_size=1)\n",
        "    def forward(self,x):\n",
        "        skip_connections = []\n",
        "        x = self.conv1(x)\n",
        "        skip_connections.append(x)\n",
        "        x = self.pool(x)\n",
        "        x = self.conv2(x)\n",
        "        skip_connections.append(x)\n",
        "        x = self.pool(x)\n",
        "        x = self.conv3(x)\n",
        "        skip_connections.append(x)\n",
        "        x = self.pool(x)\n",
        "        x = self.conv4(x)\n",
        "        skip_connections.append(x)\n",
        "        x = self.pool(x)\n",
        "        x = self.bottleneck(x)\n",
        "        skip_connections = skip_connections[::-1]\n",
        "        x = self.tconv1(x)\n",
        "        x = torch.cat((skip_connections[0], x), dim=1)\n",
        "        x = self.conv5(x)\n",
        "        x = self.tconv2(x)\n",
        "        x = torch.cat((skip_connections[1], x), dim=1)\n",
        "        x = self.conv6(x)\n",
        "        x = self.tconv3(x)\n",
        "        x = torch.cat((skip_connections[2], x), dim=1)\n",
        "        x = self.conv7(x)        \n",
        "        x = self.tconv4(x)\n",
        "        x = torch.cat((skip_connections[3], x), dim=1)\n",
        "        x = self.conv8(x)\n",
        "        x = self.final_layer(x)\n",
        "        return x"
      ]
    },
    {
      "cell_type": "code",
      "execution_count": 10,
      "metadata": {
        "colab": {
          "base_uri": "https://localhost:8080/"
        },
        "id": "8xWES8cqwP0N",
        "outputId": "2b3b1a02-5e10-452d-a87f-1f3f3bb34c11"
      },
      "outputs": [
        {
          "output_type": "execute_result",
          "data": {
            "text/plain": [
              "unet_model(\n",
              "  (pool): MaxPool2d(kernel_size=(2, 2), stride=(2, 2), padding=0, dilation=1, ceil_mode=False)\n",
              "  (conv1): encoding_block(\n",
              "    (conv): Sequential(\n",
              "      (0): Conv2d(3, 64, kernel_size=(3, 3), stride=(1, 1), padding=(1, 1), bias=False)\n",
              "      (1): BatchNorm2d(64, eps=1e-05, momentum=0.1, affine=True, track_running_stats=True)\n",
              "      (2): ReLU(inplace=True)\n",
              "      (3): Conv2d(64, 64, kernel_size=(3, 3), stride=(1, 1), padding=(1, 1), bias=False)\n",
              "      (4): BatchNorm2d(64, eps=1e-05, momentum=0.1, affine=True, track_running_stats=True)\n",
              "      (5): ReLU(inplace=True)\n",
              "    )\n",
              "  )\n",
              "  (conv2): encoding_block(\n",
              "    (conv): Sequential(\n",
              "      (0): Conv2d(64, 128, kernel_size=(3, 3), stride=(1, 1), padding=(1, 1), bias=False)\n",
              "      (1): BatchNorm2d(128, eps=1e-05, momentum=0.1, affine=True, track_running_stats=True)\n",
              "      (2): ReLU(inplace=True)\n",
              "      (3): Conv2d(128, 128, kernel_size=(3, 3), stride=(1, 1), padding=(1, 1), bias=False)\n",
              "      (4): BatchNorm2d(128, eps=1e-05, momentum=0.1, affine=True, track_running_stats=True)\n",
              "      (5): ReLU(inplace=True)\n",
              "    )\n",
              "  )\n",
              "  (conv3): encoding_block(\n",
              "    (conv): Sequential(\n",
              "      (0): Conv2d(128, 256, kernel_size=(3, 3), stride=(1, 1), padding=(1, 1), bias=False)\n",
              "      (1): BatchNorm2d(256, eps=1e-05, momentum=0.1, affine=True, track_running_stats=True)\n",
              "      (2): ReLU(inplace=True)\n",
              "      (3): Conv2d(256, 256, kernel_size=(3, 3), stride=(1, 1), padding=(1, 1), bias=False)\n",
              "      (4): BatchNorm2d(256, eps=1e-05, momentum=0.1, affine=True, track_running_stats=True)\n",
              "      (5): ReLU(inplace=True)\n",
              "    )\n",
              "  )\n",
              "  (conv4): encoding_block(\n",
              "    (conv): Sequential(\n",
              "      (0): Conv2d(256, 512, kernel_size=(3, 3), stride=(1, 1), padding=(1, 1), bias=False)\n",
              "      (1): BatchNorm2d(512, eps=1e-05, momentum=0.1, affine=True, track_running_stats=True)\n",
              "      (2): ReLU(inplace=True)\n",
              "      (3): Conv2d(512, 512, kernel_size=(3, 3), stride=(1, 1), padding=(1, 1), bias=False)\n",
              "      (4): BatchNorm2d(512, eps=1e-05, momentum=0.1, affine=True, track_running_stats=True)\n",
              "      (5): ReLU(inplace=True)\n",
              "    )\n",
              "  )\n",
              "  (conv5): encoding_block(\n",
              "    (conv): Sequential(\n",
              "      (0): Conv2d(1024, 512, kernel_size=(3, 3), stride=(1, 1), padding=(1, 1), bias=False)\n",
              "      (1): BatchNorm2d(512, eps=1e-05, momentum=0.1, affine=True, track_running_stats=True)\n",
              "      (2): ReLU(inplace=True)\n",
              "      (3): Conv2d(512, 512, kernel_size=(3, 3), stride=(1, 1), padding=(1, 1), bias=False)\n",
              "      (4): BatchNorm2d(512, eps=1e-05, momentum=0.1, affine=True, track_running_stats=True)\n",
              "      (5): ReLU(inplace=True)\n",
              "    )\n",
              "  )\n",
              "  (conv6): encoding_block(\n",
              "    (conv): Sequential(\n",
              "      (0): Conv2d(512, 256, kernel_size=(3, 3), stride=(1, 1), padding=(1, 1), bias=False)\n",
              "      (1): BatchNorm2d(256, eps=1e-05, momentum=0.1, affine=True, track_running_stats=True)\n",
              "      (2): ReLU(inplace=True)\n",
              "      (3): Conv2d(256, 256, kernel_size=(3, 3), stride=(1, 1), padding=(1, 1), bias=False)\n",
              "      (4): BatchNorm2d(256, eps=1e-05, momentum=0.1, affine=True, track_running_stats=True)\n",
              "      (5): ReLU(inplace=True)\n",
              "    )\n",
              "  )\n",
              "  (conv7): encoding_block(\n",
              "    (conv): Sequential(\n",
              "      (0): Conv2d(256, 128, kernel_size=(3, 3), stride=(1, 1), padding=(1, 1), bias=False)\n",
              "      (1): BatchNorm2d(128, eps=1e-05, momentum=0.1, affine=True, track_running_stats=True)\n",
              "      (2): ReLU(inplace=True)\n",
              "      (3): Conv2d(128, 128, kernel_size=(3, 3), stride=(1, 1), padding=(1, 1), bias=False)\n",
              "      (4): BatchNorm2d(128, eps=1e-05, momentum=0.1, affine=True, track_running_stats=True)\n",
              "      (5): ReLU(inplace=True)\n",
              "    )\n",
              "  )\n",
              "  (conv8): encoding_block(\n",
              "    (conv): Sequential(\n",
              "      (0): Conv2d(128, 64, kernel_size=(3, 3), stride=(1, 1), padding=(1, 1), bias=False)\n",
              "      (1): BatchNorm2d(64, eps=1e-05, momentum=0.1, affine=True, track_running_stats=True)\n",
              "      (2): ReLU(inplace=True)\n",
              "      (3): Conv2d(64, 64, kernel_size=(3, 3), stride=(1, 1), padding=(1, 1), bias=False)\n",
              "      (4): BatchNorm2d(64, eps=1e-05, momentum=0.1, affine=True, track_running_stats=True)\n",
              "      (5): ReLU(inplace=True)\n",
              "    )\n",
              "  )\n",
              "  (tconv1): ConvTranspose2d(1024, 512, kernel_size=(2, 2), stride=(2, 2))\n",
              "  (tconv2): ConvTranspose2d(512, 256, kernel_size=(2, 2), stride=(2, 2))\n",
              "  (tconv3): ConvTranspose2d(256, 128, kernel_size=(2, 2), stride=(2, 2))\n",
              "  (tconv4): ConvTranspose2d(128, 64, kernel_size=(2, 2), stride=(2, 2))\n",
              "  (bottleneck): encoding_block(\n",
              "    (conv): Sequential(\n",
              "      (0): Conv2d(512, 1024, kernel_size=(3, 3), stride=(1, 1), padding=(1, 1), bias=False)\n",
              "      (1): BatchNorm2d(1024, eps=1e-05, momentum=0.1, affine=True, track_running_stats=True)\n",
              "      (2): ReLU(inplace=True)\n",
              "      (3): Conv2d(1024, 1024, kernel_size=(3, 3), stride=(1, 1), padding=(1, 1), bias=False)\n",
              "      (4): BatchNorm2d(1024, eps=1e-05, momentum=0.1, affine=True, track_running_stats=True)\n",
              "      (5): ReLU(inplace=True)\n",
              "    )\n",
              "  )\n",
              "  (final_layer): Conv2d(64, 6, kernel_size=(1, 1), stride=(1, 1))\n",
              ")"
            ]
          },
          "metadata": {},
          "execution_count": 10
        }
      ],
      "source": [
        "DEVICE = \"cuda\" if torch.cuda.is_available() else \"cpu\"\n",
        "model = unet_model().to(DEVICE)\n",
        "model=torch.load(\"/content/drive/MyDrive/biopseModel.pth\", map_location=DEVICE)\n",
        "\n",
        "model.eval()"
      ]
    },
    {
      "cell_type": "code",
      "execution_count": 74,
      "metadata": {
        "id": "zbE4roquwrtZ"
      },
      "outputs": [],
      "source": [
        "image_path=\"/content/drive/MyDrive/patchedData/images/patch_100.png\"\n",
        "\n",
        "orig_image = Image.open(image_path)  # for example (3456, 5184, 3)\n",
        "orig_image = np.asarray(orig_image)"
      ]
    },
    {
      "cell_type": "code",
      "execution_count": 75,
      "metadata": {
        "id": "laHGu4OXzEGE"
      },
      "outputs": [],
      "source": [
        "patches = patchify(orig_image, (512, 512, 3), step=512)\n"
      ]
    },
    {
      "cell_type": "code",
      "execution_count": 76,
      "metadata": {
        "id": "JXwPCXeVz_4g"
      },
      "outputs": [],
      "source": [
        "softmax = nn.Softmax(dim=1)\n"
      ]
    },
    {
      "cell_type": "code",
      "execution_count": 77,
      "metadata": {
        "id": "QqzOeKmF0TqD"
      },
      "outputs": [],
      "source": [
        "mask_patches = np.empty(patches.shape).astype(np.uint8)"
      ]
    },
    {
      "cell_type": "code",
      "execution_count": 78,
      "metadata": {
        "colab": {
          "base_uri": "https://localhost:8080/"
        },
        "id": "33pxw5zd09Sq",
        "outputId": "3b81b338-9674-4a68-a814-d47c193380f4"
      },
      "outputs": [
        {
          "output_type": "execute_result",
          "data": {
            "text/plain": [
              "(1, 1, 1, 512, 512, 3)"
            ]
          },
          "metadata": {},
          "execution_count": 78
        }
      ],
      "source": [
        "patches.shape"
      ]
    },
    {
      "cell_type": "code",
      "source": [
        "def process_mask( rgb_mask): \n",
        "         output_mask = []        \n",
        "         for i, color in enumerate(COLORMAP):\n",
        "             cmap = np.all(np.equal(rgb_mask, color), axis=-1)\n",
        "             #print(np.equal(rgb_mask, color).shape)\n",
        "\n",
        "             output_mask.append(cmap)\n",
        "         #print(len(output_mask))\n",
        "         output_mask = np.argmax(output_mask, axis=0)\n",
        "         #print(output_mask.shape)\n",
        "         \n",
        "         #print(np.unique(output_mask))\n",
        "         #print(output_mask)\n",
        "         aug = t1(image=output_mask)\n",
        "         mask = aug['image'].to(DEVICE)   \n",
        "         return mask.unsqueeze(0) "
      ],
      "metadata": {
        "id": "4FKMOv8QZvVf"
      },
      "execution_count": 79,
      "outputs": []
    },
    {
      "cell_type": "code",
      "source": [
        "rgb_mask = Image.open(\"/content/drive/MyDrive/patchedData/masks/mask_patch_100.png\") \n",
        "rgb_mask = np.asarray(rgb_mask)\n",
        "\n",
        "#orig_mask=process_mask( mask_path)\n",
        "target_patches = patchify(rgb_mask, (512, 512, 3), step=512)\n",
        "\n",
        "#dice_scores=[]"
      ],
      "metadata": {
        "id": "81LIyDCHd7Yo"
      },
      "execution_count": 80,
      "outputs": []
    },
    {
      "cell_type": "code",
      "source": [],
      "metadata": {
        "id": "LtPc5ntFpBZv"
      },
      "execution_count": null,
      "outputs": []
    },
    {
      "cell_type": "code",
      "execution_count": 81,
      "metadata": {
        "id": "w64hzP9SziSz"
      },
      "outputs": [],
      "source": [
        "dice_score = 0\n",
        "\n",
        "for i in range(patches.shape[0]):\n",
        "        for j in range(patches.shape[1]):\n",
        "              patch = patches[i, j, 0]\n",
        "              image = np.array(patch)\n",
        "              image=image/255.0\n",
        "              image = t1(image=image)[\"image\"].to(DEVICE)\n",
        "              image = image.unsqueeze(0) \n",
        "\n",
        "              prediction = torch.argmax(softmax(model(image.float())),axis=1)\n",
        "\n",
        "              target=process_mask( target_patches[i,j,0]).to(DEVICE)\n",
        "              \n",
        "              dice_score +=(2 * (prediction * target).sum()) / ((prediction + target).sum() + 1e-8)\n",
        "              #dice_scores.append((2 * (prediction * target).sum()) / ((prediction + target).sum() + 1e-8))\n",
        "\n",
        "              prediction=prediction.to('cpu').detach()\n",
        "              pred=np.array(prediction[0])\n",
        "              pred3channel = np.zeros( ( pred.shape[0], pred.shape[1], 3 ), np.uint8 )\n",
        "              \n",
        "              r=pred3channel[:,:,0]\n",
        "              g=pred3channel[:,:,1]\n",
        "              b=pred3channel[:,:,2]\n",
        "\n",
        " \n",
        "              #unique_values=np.unique(prediction[0])\n",
        "\n",
        "              for c in range(0, len(COLORMAP)):\n",
        "                 r[pred==c]=COLORMAP[c][0]\n",
        "                 g[pred==c]=COLORMAP[c][1]\n",
        "                 b[pred==c]=COLORMAP[c][2]\n",
        "\n",
        "              #for r in range(np.array(prediction).shape[0]):\n",
        "              #  for c in range(np.array(prediction).shape[1]):\n",
        "              #           pred3channel[0,r,c] = image[0][0,r,c]\n",
        "              #           pred3channel[1,r,c] = image[0][1,r,c]\n",
        "              #           pred3channel[2,r,c] = image[0][2,r,c]\n",
        "\n",
        "              pred3channel[:,:,0]=r\n",
        "              pred3channel[:,:,1]=g\n",
        "              pred3channel[:,:,2]=b\n",
        "\n",
        "              mask_patches[i, j, 0] = pred3channel\n"
      ]
    },
    {
      "cell_type": "code",
      "source": [
        "dice_score.detach().cpu().numpy()"
      ],
      "metadata": {
        "colab": {
          "base_uri": "https://localhost:8080/"
        },
        "id": "rOE4mkIBp5Eg",
        "outputId": "c51e44e1-3d98-4bf1-ccbb-c2f99375a133"
      },
      "execution_count": 82,
      "outputs": [
        {
          "output_type": "execute_result",
          "data": {
            "text/plain": [
              "array(1.6060283, dtype=float32)"
            ]
          },
          "metadata": {},
          "execution_count": 82
        }
      ]
    },
    {
      "cell_type": "code",
      "source": [
        "dice_score.detach().cpu().numpy().astype(int)/(patches.shape[0]* patches.shape[1])"
      ],
      "metadata": {
        "colab": {
          "base_uri": "https://localhost:8080/"
        },
        "id": "rqqoi9zau4XO",
        "outputId": "738d1669-d67c-4365-90f7-9e88ddb09a47"
      },
      "execution_count": 83,
      "outputs": [
        {
          "output_type": "execute_result",
          "data": {
            "text/plain": [
              "1.0"
            ]
          },
          "metadata": {},
          "execution_count": 83
        }
      ]
    },
    {
      "cell_type": "code",
      "execution_count": 72,
      "metadata": {
        "id": "enZQq51z2Ur5"
      },
      "outputs": [],
      "source": [
        "image_height, image_width, channel_count = orig_image.shape\n",
        "patch_height, patch_width, step = 512, 512, 512\n",
        "patch_shape = (patch_height, patch_width, channel_count)\n"
      ]
    },
    {
      "cell_type": "code",
      "execution_count": 73,
      "metadata": {
        "id": "iYDyAepe4xyD"
      },
      "outputs": [],
      "source": [
        "output_height = image_height - (image_height - patch_height) % step\n",
        "output_width = image_width - (image_width - patch_width) % step\n",
        "output_shape = (output_height, output_width, channel_count)\n",
        "output_image = unpatchify(mask_patches, output_shape)\n",
        "output_image = Image.fromarray(output_image)\n",
        "output_image.save(\"/content/drive/MyDrive/patchedData/predict-3/mask_patch_100.png\")"
      ]
    }
  ],
  "metadata": {
    "accelerator": "GPU",
    "colab": {
      "provenance": [],
      "gpuType": "T4"
    },
    "gpuClass": "standard",
    "kernelspec": {
      "display_name": "Python 3",
      "name": "python3"
    },
    "language_info": {
      "name": "python"
    }
  },
  "nbformat": 4,
  "nbformat_minor": 0
}